import boto3
from datetime import datetime
from dateutil.relativedelta import relativedelta
import json
import os
import requests
from typing import Dict, List


def get_taxi_data(formatted_datetime: str) -> List:
    """
    Retrieves taxi data for the given date.

    Parameters
    ----------
        formatted_datetime (str): The date in YYYY-MM-DD format.

    Returns
    -------
        List: A list of taxi trip data dictionaries.
        Returns a fitting error message if problem occurs.
    """
    
    url_taxi = (
        f"https://data.cityofchicago.org/resource/ajtu-isnz.json?"
        f"$where=trip_start_timestamp >= '{formatted_datetime}T00:00:00' "
        f"AND trip_start_timestamp <= '{formatted_datetime}T23:59:59'&$limit=35000"
    )
    
    headers = {"X-App-Token": os.environ.get("CHICAGO_KEY")}
    
    try:
        response = requests.get(url_taxi)
        response.raise_for_status()
        taxi_data = response.json()
        print(taxi_data)
        print(len(taxi_data))
    
    except requests.exceptions.RequestException as req_exc:
        print(f"This HTTP Request failed: {req_exc}")
    
    except ValueError as v_e:
        print(f"The JSON's parsing has failed: {v_e}")
        
    return taxi_data
    
    
def get_weather_data(formatted_datetime: str) -> List:
    """
    Fetches weather data from the Open-Meteo API for the given date and location.

    Parameters
    ----------
        formatted_datetime (str): The date in YYYY-MM-DD format.

    Returns
    -------
    List
        A dictionary containing weather data. 
        Returns a fitting error message if the request fails or an error occurs.
    """
    
    url_weather = "https://archive-api.open-meteo.com/v1/era5"
    
    params = {
        "latitude": 41.85,
        "longitude": -87.65,
        "start_date": formatted_datetime,
        "end_date": formatted_datetime,
        "hourly": "temperature_2m,wind_speed_10m,rain,precipitation"
    }
    
    try:
        response = requests.get(url_weather, params=params)
        response.raise_for_status()
        weather_data = response.json()
        print(weather_data)
        print(len(weather_data))
    
    except requests.exceptions.HTTPError as http_e:
        print(f"HTTP error occurred: {http_e}")
        
    except Exception as e:
        print(f"Other error occured: {e}")
        
    return weather_data
    

def upload_to_s3(data: Dict, folder_name: str, file_name: str) -> None:
    """
    Uploads the given data to an S3 bucket.

    Parameters
    ----------
        data (Dict): The data to be uploaded, either taxi or weather data.
        folder_name (str): The name of the folder in the S3 bucket.
        file_name (str): The name of the file to be saved in the S3 bucket.
    
    Returns
    -------
        None. This function does not return anything.

    Raises
    ------
    Exception
        If there is an error during the S3 upload process.
    """
    
    s3_client = boto3.client("s3")
    try:
        s3_client.put_object(
            Bucket = "egle.final-project-bucket",
            Key = f"raw_data/to_processed/{folder_name}/{file_name}",
            Body = json.dumps(data)
        )
        
    except Exception as e:
        print(f"Failed to upload to S3: {e}")
    

def lambda_handler(event, context):
    
    current_datetime = datetime.now() - relativedelta(months = 2)
    formatted_datetime = current_datetime.strftime("%Y-%m-%d")
    
    
    taxi_data_api_call = get_taxi_data(formatted_datetime)
    weather_data_api_call = get_weather_data(formatted_datetime)
    
    
    taxi_file_name = f"taxi_raw_{formatted_datetime}.json"
    weather_file_name = f"weather_raw_{formatted_datetime}.json"
    
    upload_to_s3(data = taxi_data_api_call,
                 folder_name = "taxi_data",
                 file_name = taxi_file_name
    )
    print("Taxi data has been uploaded!")
    
    upload_to_s3(data = weather_data_api_call,
                 folder_name = "weather_data",
                 file_name = weather_file_name
    )
    print("Weather data has been uploaded!")
